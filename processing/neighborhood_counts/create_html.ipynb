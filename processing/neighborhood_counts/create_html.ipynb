{
 "cells": [
  {
   "cell_type": "code",
   "execution_count": 17,
   "metadata": {},
   "outputs": [],
   "source": [
    "from mapboxgl.viz import *\n",
    "from mapboxgl.utils import *\n",
    "import json\n",
    "from scipy.stats import iqr\n",
    "\n",
    "def create_html():\n",
    "    # Must be a public token, starting with `pk`\n",
    "    token = os.environ.get('MAPBOX_TOKEN')\n",
    "    # Create Choropleth with GeoJSON Source\n",
    "    counts = []\n",
    "    with open(\"neighborhood.geojson\",\"r\") as f:\n",
    "        data = json.load(f)\n",
    "        for d in data['features']:\n",
    "            counts.append(d['properties']['count'])\n",
    "    m = max(counts)\n",
    "    # really not the most robust way to break it, someone may want to come up with a better one\n",
    "    viz = ChoroplethViz(\"neighborhood.geojson\", \n",
    "                         color_property='count',\n",
    "                         access_token = token,\n",
    "                         color_stops=create_color_stops([0, m/4, (2/4)*m, (3/4)*m, m], colors='YlOrRd'),\n",
    "                         color_function_type='interpolate',\n",
    "                         line_stroke='-',\n",
    "                         line_color='rgb(128,0,38)',\n",
    "                         line_width=1,\n",
    "                         opacity=0.8,\n",
    "                         center=(-118.4, 34),\n",
    "                         zoom=9,\n",
    "                         below_layer='waterway-label'\n",
    "                        )\n",
    "    html = open(\"neighborhood.html\", \"w\")\n",
    "    html.write( viz.create_html() )\n",
    "    html.close()\n",
    "\n",
    "create_html()\n"
   ]
  },
  {
   "cell_type": "code",
   "execution_count": null,
   "metadata": {},
   "outputs": [],
   "source": []
  }
 ],
 "metadata": {
  "kernelspec": {
   "display_name": "Python 3",
   "language": "python",
   "name": "python3"
  },
  "language_info": {
   "codemirror_mode": {
    "name": "ipython",
    "version": 3
   },
   "file_extension": ".py",
   "mimetype": "text/x-python",
   "name": "python",
   "nbconvert_exporter": "python",
   "pygments_lexer": "ipython3",
   "version": "3.6.5"
  }
 },
 "nbformat": 4,
 "nbformat_minor": 2
}
