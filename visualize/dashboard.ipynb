{
 "cells": [
  {
   "cell_type": "code",
   "execution_count": 4,
   "metadata": {},
   "outputs": [
    {
     "data": {
      "text/html": [
       "<script>requirejs.config({paths: { 'plotly': ['https://cdn.plot.ly/plotly-latest.min']},});if(!window.Plotly) {{require(['plotly'],function(plotly) {window.Plotly=plotly;});}}</script>"
      ],
      "text/vnd.plotly.v1+html": [
       "<script>requirejs.config({paths: { 'plotly': ['https://cdn.plot.ly/plotly-latest.min']},});if(!window.Plotly) {{require(['plotly'],function(plotly) {window.Plotly=plotly;});}}</script>"
      ]
     },
     "metadata": {},
     "output_type": "display_data"
    }
   ],
   "source": [
    "'''\n",
    "    This notebook will generate an html file to serve as a precursor for a dashboard file.\n",
    "    Current visuals: trips per day of week (pie chart, bar plot, grouped bar plot)\n",
    "    ** modified for new dabase structure\n",
    "    \n",
    "    Name and Password fields will need to be changed for 'connect'.\n",
    "    \n",
    "    Author: Hannah Ross\n",
    "'''\n",
    "\n",
    "import calendar\n",
    "import datetime\n",
    "import plotly.plotly as py\n",
    "import sqlalchemy\n",
    "from mapbox import Datasets\n",
    "import os\n",
    "from mapboxgl.utils import create_color_stops\n",
    "from mapboxgl.viz import CircleViz\n",
    "import psycopg2\n",
    "import pandas\n",
    "import json\n",
    "import requests\n",
    "import ast\n",
    "import pandas as pd\n",
    "from mapboxgl.utils import *\n",
    "from mapboxgl.viz import *\n",
    "import plotly.graph_objs as go\n",
    "from plotly.offline import download_plotlyjs, init_notebook_mode, plot, iplot\n",
    "init_notebook_mode(connected=True)\n",
    "\n",
    "def connect(user,password,db,host='localhost',port=5432):\n",
    "    url = 'postgresql://{}:{}@{}:{}/{}'\n",
    "    url = url.format(user,password,host,port,db)\n",
    "    con = sqlalchemy.create_engine(url)\n",
    "    return con\n",
    "\n",
    "def get_data(con):\n",
    "    trips_db = pandas.read_sql('SELECT * FROM \"trips\"',con,index_col=None)\n",
    "    status_change_db = pandas.read_sql('SELECT * FROM \"status_change\"',con,\n",
    "                                       index_col=None)\n",
    "    return (trips_db,status_change_db)\n",
    "\n",
    "# read in trips and status change data from the server\n",
    "con = connect(\"hannah1ross\",\"password\",\"transit\")\n",
    "tdb, scdb = get_data(con)\n",
    "\n",
    "# returns observations in a given month's time frame\n",
    "def obs_in_month(month,pd_df):\n",
    "    start_time = [pd_df['route'][i]['features'][0]['properties']['timestamp'] for i in range(len(pd_df))]\n",
    "    mo = month\n",
    "    vec=[datetime.datetime.utcfromtimestamp(x) for x in start_time[0:len(pd_df)] if datetime.datetime.utcfromtimestamp(x).month==mo]\n",
    "    bool_vec = [d.month==mo for d in start_time]\n",
    "    return pd_df.loc[bool_vec].reset_index()\n",
    "\n",
    "# return observations in a given hour's time frame - not day specific\n",
    "def obs_in_hour(hour,pd_df):\n",
    "    start_time = [pd_df['route'][i]['features'][0]['properties']['timestamp'] for i in range(len(pd_df))]\n",
    "    hr = hour\n",
    "    vec=[datetime.datetime.utcfromtimestamp(x) for x in start_time[0:len(pd_df)] if datetime.datetime.utcfromtimestamp(x).hour==hr]\n",
    "    bool_vec = [d.hour==hr for d in start_time]\n",
    "    return pd_df.loc[bool_vec].reset_index()\n",
    "\n",
    "# return observations within a period of 2 specified days (first and last days must be unix time stamps: datetime.strptime('2015-10-20 22:24:46', '%Y-%m-%d %H:%M:%S') )\n",
    "def obs_in_days(firstday,lastday,pd_df):\n",
    "    start_time = [pd_df['route'][i]['features'][0]['properties']['timestamp'] for i in range(len(pd_df))]\n",
    "    vec=[datetime.datetime.utcfromtimestamp(x) for x in start_time[0:len(pd_df)] if ((datetime.datetime.utcfromtimestamp(x)<= firstday) & (datetime.datetime.utcfromtimestamp(x)>=lastday))]\n",
    "    bool_vec = [((datetime.datetime.utcfromtimestamp(d) >=firstday) & (datetime.datetime.utcfromtimestamp(d)<= lastday)) for d in start_time]\n",
    "    return pd_df.loc[bool_vec].reset_index()\n",
    "\n",
    "# extracts the days of each trip\n",
    "def get_days_of_trips(tripsdf): # for plotting trips per day of week\n",
    "    start_time = [tripsdf['route'][i]['features'][0]['properties']['timestamp'] for i in range(len(tripsdf))]\n",
    "    return [calendar.day_name[datetime.datetime.utcfromtimestamp(x).weekday()] for x in start_time]\n",
    "\n",
    "# counts the frequency of each day given vector of days\n",
    "def count_days(day,dayvec): # for plotting trips per day of week\n",
    "    vec=[dayvec[i]==day for i in range(len(dayvec))]\n",
    "    return sum(vec)\n",
    "\n",
    "# returns plots for trip taken per day of week\n",
    "def plot_trips_per_weekdays_for_interval(firstday,lastday,tdb ):\n",
    "\n",
    "    trips_df = obs_in_days(firstday ,lastday , tdb)\n",
    "    #trips_df=trips_df.reset_index()\n",
    "    trips_by_day = get_days_of_trips(trips_df)\n",
    "    \n",
    "    mon_count = count_days('Monday',trips_by_day)\n",
    "    tues_count = count_days('Tuesday',trips_by_day)\n",
    "    wed_count = count_days('Wednesday',trips_by_day)\n",
    "    thurs_count = count_days('Thursday',trips_by_day)\n",
    "    fri_count = count_days('Friday',trips_by_day)\n",
    "    sat_count= count_days('Saturday',trips_by_day)\n",
    "    sun_count= count_days('Sunday',trips_by_day)\n",
    "    the_interval = calendar.month_name[firstday.month] +' ' +str(firstday.day)+ ' to '+ calendar.month_name[lastday.month] +' ' +str(lastday.day)\n",
    "\n",
    "    pie_fig = {\n",
    "    \"data\": [\n",
    "             {\n",
    "             \"values\": [mon_count,tues_count,wed_count,thurs_count,fri_count,sat_count,sun_count ],\n",
    "             \"labels\": [x for x in calendar.day_name],\n",
    "             #\"hoverinfo\":\"label+value\",\n",
    "             \"type\": \"pie\"\n",
    "             },\n",
    "             ],\n",
    "        \"layout\": {\n",
    "            \"title\":\"Trips Per Day of Week from {}\".format(the_interval),\n",
    "        }\n",
    "    }\n",
    "    bar_fig = {\n",
    "    \"data\": [\n",
    "             {\n",
    "             \"y\": [mon_count,tues_count,wed_count,thurs_count,fri_count,sat_count,sun_count ],\n",
    "             \"x\": [x for x in calendar.day_name],\n",
    "             #\"hoverinfo\":\"value\",\n",
    "             \"type\": \"bar\"\n",
    "             },\n",
    "             ],\n",
    "        \"layout\": {\n",
    "            \"title\":\"Trips Per Day of Week from {}\".format(the_interval),\n",
    "            \"yaxis\":{\"title\":\"Number of Trips\"}\n",
    "            }\n",
    "        }\n",
    "\n",
    "    bat_trips_df = trips_df.loc[trips_df['company_name']=='Bat'].reset_index()\n",
    "    lemon_trips_df = trips_df.loc[trips_df['company_name']=='Lemon'].reset_index()\n",
    "\n",
    "    bat_trips_by_day = get_days_of_trips(bat_trips_df)\n",
    "    lemon_trips_by_day = get_days_of_trips(lemon_trips_df)\n",
    "\n",
    "\n",
    "    bat_mon_count,lemon_mon_count = count_days('Monday',bat_trips_by_day),count_days('Monday',lemon_trips_by_day),\n",
    "    bat_tues_count,lemon_tues_count = count_days('Tuesday',bat_trips_by_day), count_days('Tuesday',lemon_trips_by_day)\n",
    "    bat_wed_count,lemon_wed_count = count_days('Wednesday',bat_trips_by_day),count_days('Wednesday',lemon_trips_by_day)\n",
    "    bat_thurs_count,lemon_thurs_count = count_days('Thursday',bat_trips_by_day),count_days('Thursday',lemon_trips_by_day)\n",
    "    bat_fri_count,lemon_fri_count = count_days('Friday',bat_trips_by_day),count_days('Friday',lemon_trips_by_day)\n",
    "    bat_sat_count, lemon_sat_count = count_days('Saturday',bat_trips_by_day), count_days('Saturday',lemon_trips_by_day)\n",
    "    bat_sun_count, lemon_sun_count = count_days('Sunday',bat_trips_by_day),count_days('Sunday',lemon_trips_by_day)\n",
    "\n",
    "    trace1 = go.Bar(\n",
    "        y=[bat_mon_count,bat_tues_count,bat_wed_count,bat_thurs_count,bat_fri_count,bat_sat_count,bat_sun_count ],\n",
    "            x= [x for x in calendar.day_name],\n",
    "            name='Bat'\n",
    "            )\n",
    "\n",
    "    trace2 = go.Bar(\n",
    "            y=[lemon_mon_count,lemon_tues_count,lemon_wed_count,lemon_thurs_count,lemon_fri_count,lemon_sat_count,lemon_sun_count ],\n",
    "                x= [x for x in calendar.day_name],\n",
    "                name='Lemon'\n",
    "                )\n",
    "\n",
    "    data=[trace1,trace2]\n",
    "    layout = go.Layout(\n",
    "                   barmode='group',\n",
    "                   title=\"Trips Per Day of Week from {}\".format(the_interval),\n",
    "                   yaxis={\"title\":\"Number of Trips\"}\n",
    "                   )\n",
    "\n",
    "    double_bar_fig = go.Figure(data=data, layout=layout)\n",
    "\n",
    "    return pie_fig,bar_fig,double_bar_fig\n",
    "\n",
    "pie_fig,bar_fig,double_bar_fig = plot_trips_per_weekdays_for_interval(datetime.datetime(2018, 8, 3, 8, 32, 13) ,datetime.datetime(2018, 8, 10, 8, 33, 13),tdb )\n",
    "\n",
    "# make plots for trips per day\n",
    "#py.iplot(pie_fig, filename='trips_per_weekdayPie', auto_open=False,)\n",
    "#py.iplot(bar_fig, filename='trips_per_weekdayBar', auto_open=False,)\n",
    "#py.iplot(double_bar_fig, filename='trips_per_weekdayDoubleBar', auto_open=False,)\n",
    "\n",
    "def to_twelve_hour(hour): # used for plotting trips per hour\n",
    "    if hour > 12:\n",
    "        new=hour-12\n",
    "        return str(new)+'PM'\n",
    "    elif hour == 12:\n",
    "        return str(hour)+ 'PM'\n",
    "    elif hour == 0:\n",
    "        return str(12)+ 'AM'\n",
    "    else:\n",
    "        return str(hour)+'AM'\n",
    "\n",
    "def plot_trips_per_hour(tdb):\n",
    "    start_times = [tdb['route'][i]['features'][0]['properties']['timestamp'] for i in range(len(tdb))]\n",
    "    hour_vec=[datetime.datetime.fromtimestamp(d).hour for d in start_times]\n",
    "    hour_vec_ampm = [to_twelve_hour(t) for t in hour_vec]\n",
    "    ampm_hours = ['12AM', '1AM','2AM','3AM','4AM','5AM', '6AM','7AM','8AM','9AM','10AM', '11AM','12PM','1PM','2PM','3PM','4PM','5PM','6PM','7PM','8PM','9PM','10PM','11PM']\n",
    "    yvals=[]\n",
    "    for i in range(len(ampm_hours)):\n",
    "        time = ampm_hours[i]\n",
    "        yvals.append(sum([(hour_vec_ampm[j]==time) for j in range(len(hour_vec_ampm))]))\n",
    "    \n",
    "    trace=go.Bar(x=ampm_hours,y=yvals)\n",
    "    data=[trace]\n",
    "    layout=go.Layout(title='Trips Taken Per Hour',barmode= 'group',bargroupgap= 0.5)\n",
    "    layout.yaxis=dict(title= \"Number of Trips\")\n",
    "    layout.xaxis={\n",
    "    'type': 'date',\n",
    "    'tickformat': '%H:%M',\n",
    "    'tickangle':'45',\n",
    "    }\n",
    "    layout.xaxis=dict(title= \"Hour of Day\",tickmode='linear')\n",
    "    layout.plot_bgcolor='rgb(11, 0, 0)'\n",
    "    hours_fig=go.Figure(data=data,layout=layout)\n",
    "    return hours_fig\n",
    "\n",
    "# can filter tdb using obs_in functions for window specification\n",
    "tdb_filtered = obs_in_days(datetime.datetime(2018, 8, 3, 8, 32, 13) ,datetime.datetime(2018, 8, 10, 8, 33, 13),tdb)\n",
    "hours_fig = plot_trips_per_hour(tdb_filtered)\n",
    "\n",
    "# make the plot for trips per hour\n",
    "#py.iplot(hours_fig, filename='trips_per_hour', auto_open=False,)\n",
    "\n",
    "# create map of start points of trips\n",
    "# create dataframes for startpoints and endpoints with lat and long coords\n",
    "\n",
    "\n",
    "\n",
    "\n",
    "\n",
    "\n",
    "\n"
   ]
  },
  {
   "cell_type": "code",
   "execution_count": 5,
   "metadata": {},
   "outputs": [
    {
     "data": {
      "text/html": [
       "<iframe id=\"igraph\" scrolling=\"no\" style=\"border:none;\" seamless=\"seamless\" src=\"https://plot.ly/~hannahross33/68.embed\" height=\"525px\" width=\"100%\"></iframe>"
      ],
      "text/plain": [
       "<plotly.tools.PlotlyDisplay object>"
      ]
     },
     "execution_count": 5,
     "metadata": {},
     "output_type": "execute_result"
    }
   ],
   "source": [
    "# make plots for trips per day\n",
    "py.iplot(pie_fig, filename='trips_per_weekdayPie', auto_open=False,)\n"
   ]
  },
  {
   "cell_type": "code",
   "execution_count": 6,
   "metadata": {},
   "outputs": [
    {
     "data": {
      "text/html": [
       "<iframe id=\"igraph\" scrolling=\"no\" style=\"border:none;\" seamless=\"seamless\" src=\"https://plot.ly/~hannahross33/70.embed\" height=\"525px\" width=\"100%\"></iframe>"
      ],
      "text/plain": [
       "<plotly.tools.PlotlyDisplay object>"
      ]
     },
     "execution_count": 6,
     "metadata": {},
     "output_type": "execute_result"
    }
   ],
   "source": [
    "py.iplot(bar_fig, filename='trips_per_weekdayBar', auto_open=False,)"
   ]
  },
  {
   "cell_type": "code",
   "execution_count": 7,
   "metadata": {},
   "outputs": [
    {
     "data": {
      "text/html": [
       "<iframe id=\"igraph\" scrolling=\"no\" style=\"border:none;\" seamless=\"seamless\" src=\"https://plot.ly/~hannahross33/74.embed\" height=\"525px\" width=\"100%\"></iframe>"
      ],
      "text/plain": [
       "<plotly.tools.PlotlyDisplay object>"
      ]
     },
     "execution_count": 7,
     "metadata": {},
     "output_type": "execute_result"
    }
   ],
   "source": [
    "py.iplot(double_bar_fig, filename='trips_per_weekdayDoubleBar', auto_open=False,)"
   ]
  },
  {
   "cell_type": "code",
   "execution_count": 8,
   "metadata": {},
   "outputs": [
    {
     "data": {
      "text/html": [
       "<iframe id=\"igraph\" scrolling=\"no\" style=\"border:none;\" seamless=\"seamless\" src=\"https://plot.ly/~hannahross33/76.embed\" height=\"525px\" width=\"100%\"></iframe>"
      ],
      "text/plain": [
       "<plotly.tools.PlotlyDisplay object>"
      ]
     },
     "execution_count": 8,
     "metadata": {},
     "output_type": "execute_result"
    }
   ],
   "source": [
    "py.iplot(hours_fig, filename='trips_per_hour', auto_open=False,)"
   ]
  },
  {
   "cell_type": "code",
   "execution_count": null,
   "metadata": {},
   "outputs": [],
   "source": [
    "start_d = {'lat':[], 'lon':[]}\n",
    "end_d = {'lat':[], 'lon':[]}\n",
    "\n",
    "end_points = [tdb['route'][i]['features'][1]['geometry']['coordinates'] for i in range(len(tdb))]\n",
    "start_points = [tdb['route'][i]['features'][0]['geometry']['coordinates'] for i in range(len(tdb))]\n",
    "\n",
    "for start_p,end_p in zip(start_points,end_points):\n",
    "    start_lon,start_lat,end_lon, end_lat = start_p[0],start_p[1],end_p[0],end_p[1]\n",
    "    start_d['lat'].append(start_lat)\n",
    "    start_d['lon'].append(start_lon)\n",
    "    end_d['lat'].append(end_lat)\n",
    "    end_d['lon'].append(end_lon)\n",
    "\n",
    "startdb = pandas.DataFrame.from_dict(start_d) # db is just lat and long points\n",
    "enddb = pandas.DataFrame.from_dict(end_d) # db is just lat and long points\n",
    "\n",
    "# Must be a public token, starting with `pk`\n",
    "token = os.getenv('MAPBOX_TOKEN')\n",
    "\n",
    "# Create a geojson file export from a Pandas dataframe\n",
    "df_to_geojson(startdb, filename='points.geojson',lat='lat', lon='lon')\n",
    "\n",
    "#Create a heatmap\n",
    "heatmap_color_stops = create_color_stops([0.01,0.25,0.5,0.75,1], colors='RdPu')\n",
    "heatmap_radius_stops = [[0,1], [15, 40]] #increase radius with zoom\n",
    "\n",
    "color_breaks = [0,10,100,1000,10000]\n",
    "color_stops = create_color_stops(color_breaks, colors='Spectral')\n",
    "\n",
    "heatmap_weight_stops = create_weight_stops(color_breaks)\n",
    "\n",
    "#Create a heatmap\n",
    "viz = HeatmapViz('points.geojson',\n",
    "                 access_token=token,\n",
    "                 weight_stops = heatmap_weight_stops,\n",
    "                 color_stops = heatmap_color_stops,\n",
    "                 radius_stops = heatmap_radius_stops,\n",
    "                 opacity = 0.9,\n",
    "                 center = (-118, 34),\n",
    "                 zoom = 3,\n",
    "                 )\n",
    "\n",
    "viz.show()\n"
   ]
  },
  {
   "cell_type": "code",
   "execution_count": null,
   "metadata": {},
   "outputs": [],
   "source": []
  }
 ],
 "metadata": {
  "kernelspec": {
   "display_name": "Python 2",
   "language": "python",
   "name": "python2"
  },
  "language_info": {
   "codemirror_mode": {
    "name": "ipython",
    "version": 2
   },
   "file_extension": ".py",
   "mimetype": "text/x-python",
   "name": "python",
   "nbconvert_exporter": "python",
   "pygments_lexer": "ipython2",
   "version": "2.7.14"
  }
 },
 "nbformat": 4,
 "nbformat_minor": 2
}
