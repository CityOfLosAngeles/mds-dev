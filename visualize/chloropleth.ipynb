{
 "cells": [
  {
   "cell_type": "code",
   "execution_count": null,
   "metadata": {},
   "outputs": [
    {
     "name": "stderr",
     "output_type": "stream",
     "text": [
      "/Users/hannah1ross/anaconda2/lib/python2.7/site-packages/psycopg2/__init__.py:144: UserWarning: The psycopg2 wheel package will be renamed from release 2.8; in order to keep installing from binary please use \"pip install psycopg2-binary\" instead. For details see: <http://initd.org/psycopg/docs/install.html#binary-install-from-pypi>.\n",
      "  \"\"\")\n"
     ]
    }
   ],
   "source": [
    "import fiona\n",
    "import pyproj\n",
    "#import measure\n",
    "import argparse\n",
    "import sqlalchemy\n",
    "import psycopg2\n",
    "import pandas\n",
    "import fiona\n",
    "import pyproj\n",
    "import shapely.geometry\n",
    "import shapely.ops\n",
    "import pprint\n",
    "import time\n",
    "import datetime\n",
    "import sortedcontainers\n",
    "def read_poly(poly, original, dest):\n",
    "    interior = []\n",
    "    exterior = []\n",
    "    for p in poly:\n",
    "        new_list = []\n",
    "        for x,y in p:\n",
    "            x_prime, y_prime = pyproj.transform(original, dest, x, y)\n",
    "            p = (x_prime, y_prime)\n",
    "            new_list.append(p)\n",
    "        if exterior == []:\n",
    "            exterior = new_list\n",
    "        else:\n",
    "            interior.append(new_list)\n",
    "    final_area = shapely.geometry.Polygon(exterior, interior)\n",
    "    return final_area\n",
    "\n",
    "def read_area(file_name):\n",
    "    area = fiona.open(file_name)\n",
    "    original = pyproj.Proj(area.crs)\n",
    "    dest = pyproj.Proj(init='epsg:4326')\n",
    "    multi_polygon = []\n",
    "    for a in area:\n",
    "        a_type = a['geometry']['type']\n",
    "        if a_type == \"MultiPolygon\":\n",
    "            for poly in a['geometry']['coordinates']:\n",
    "                multi_polygon.append(read_poly(poly, original, dest))\n",
    "        elif a_type == \"Polygon\":\n",
    "            multi_polygon.append(read_poly(a['geometry']['coordinates'], original, dest))\n",
    "    return shapely.ops.cascaded_union(multi_polygon)\n",
    "city_boundary = read_area('/Users/hannah1ross/Desktop/mds-dev/processing/Non_San_Fernando.shp')"
   ]
  },
  {
   "cell_type": "code",
   "execution_count": null,
   "metadata": {},
   "outputs": [],
   "source": []
  }
 ],
 "metadata": {
  "kernelspec": {
   "display_name": "Python 2",
   "language": "python",
   "name": "python2"
  },
  "language_info": {
   "codemirror_mode": {
    "name": "ipython",
    "version": 2
   },
   "file_extension": ".py",
   "mimetype": "text/x-python",
   "name": "python",
   "nbconvert_exporter": "python",
   "pygments_lexer": "ipython2",
   "version": "2.7.14"
  }
 },
 "nbformat": 4,
 "nbformat_minor": 2
}
